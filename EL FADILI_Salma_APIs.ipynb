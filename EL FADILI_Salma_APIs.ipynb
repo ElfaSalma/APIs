{
  "nbformat": 4,
  "nbformat_minor": 0,
  "metadata": {
    "colab": {
      "provenance": []
    },
    "kernelspec": {
      "name": "python3",
      "display_name": "Python 3"
    },
    "language_info": {
      "name": "python"
    }
  },
  "cells": [
    {
      "cell_type": "markdown",
      "source": [
        "## Partie 1 : Collecte et manipulation de données via une API REST"
      ],
      "metadata": {
        "id": "jqH_yv9pygqU"
      }
    },
    {
      "cell_type": "markdown",
      "source": [
        "1. Utilisation de la requête GET :"
      ],
      "metadata": {
        "id": "dniOOrkxy7oQ"
      }
    },
    {
      "cell_type": "code",
      "source": [
        "# Importation des bibliothèques\n",
        "import requests #requests pour envoyer une requette HTTP\n",
        "import csv #csv pour sauvgarder les données collectées dans un fichier CSV"
      ],
      "metadata": {
        "id": "1EwX91kCyoBN"
      },
      "execution_count": 42,
      "outputs": []
    },
    {
      "cell_type": "code",
      "source": [
        "#Étape 1: Configurer la clé API et l'URL\n",
        "url = \"https://jsonplaceholder.typicode.com/users\" #url de l'API JSONPlaceholder\n",
        "#Étape 2 : Envoyer une requête GET à l'API\n",
        "response = requests.get(url)\n",
        "print(response.status_code) # Afficher le status de la réponse de l'API\n",
        "print(response.text) # Afficher le contenu de la réponse de l'API sous forme d'un texte brut\n",
        "print(\"--------------------------------------------\")\n",
        "print(type(response)) # Afficher le type de la réponse de l'API\n",
        "print(type(response.text)) # Afficher le type de contenu de la réponse de l'AP\n",
        "\n"
      ],
      "metadata": {
        "colab": {
          "base_uri": "https://localhost:8080/"
        },
        "id": "bNhc5gsr0hIF",
        "outputId": "44cdea48-e1c0-4fc2-a862-8a1499952d70"
      },
      "execution_count": 44,
      "outputs": [
        {
          "output_type": "stream",
          "name": "stdout",
          "text": [
            "Une erreur est survenue : HTTPConnectionPool(host='localhost', port=3000): Max retries exceeded with url: /users (Caused by NewConnectionError('<urllib3.connection.HTTPConnection object at 0x796fa559f190>: Failed to establish a new connection: [Errno 111] Connection refused'))\n"
          ]
        }
      ]
    },
    {
      "cell_type": "code",
      "source": [
        "# Étape 3:Vérifier si la requête a réussi (status 200)\n",
        "try:\n",
        "    response = requests.get(url)\n",
        "\n",
        "    if response.status_code == 200:  # Vérification de la réussite de la requête\n",
        "\n",
        "    # Étape 4: Convertir la réponse JSON en dictionnaire Python\n",
        "        data = response.json()\n",
        "        import pprint  #importation du module \"pretty.print\"qui permet d'afficher un objet d'une manière que l'on puisse lire\n",
        "        #pprint.pprint(data) #afficher la réponse JSON convertit en dictionnaire python d'une manière plus lisible\n",
        "        #print(\"le type de la réponse JSON est:\", (type(data))) #afficher le type de la réponse JSON convertit en dictionnaire python\n",
        "        print(\"---------------------------------------------------\")\n",
        "\n",
        "        # Étape 5: Sauvegarder les données récupérées dans un fichier CSV\n",
        "        with open(\"users.csv\", mode=\"w\", newline=\"\") as file: # Ouvrir un fichier CSV en mode écriture\n",
        "            writer = csv.writer(file) ## Créer un objet writer pour écrire dans le fichier CSV\n",
        "            writer.writerow([\"ID\", \"Name\", \"Email\", \"City\"])  # Écrire l'entête du fichier CSV (colonnes)\n",
        "            for user in data:\n",
        "                #Écriture des données dans le fichier CSV\n",
        "                writer.writerow([user[\"id\"], user[\"name\"], user[\"email\"], user[\"address\"][\"city\"]])\n",
        "\n",
        "        print(\"Les données ont été sauvegardées dans 'users.csv'\")\n",
        "\n",
        "    else:\n",
        "        print(f\"Erreur lors de la récupération des données : {response.status_code}\")\n",
        "\n",
        "\n",
        "except Exception as e:\n",
        "    print(f\"Une erreur s'est produite : {e}\")\n",
        ""
      ],
      "metadata": {
        "colab": {
          "base_uri": "https://localhost:8080/"
        },
        "id": "3CH-_USO_ZYe",
        "outputId": "43251b0f-a979-4f58-f3f9-4fd0686f0fd5"
      },
      "execution_count": 27,
      "outputs": [
        {
          "output_type": "stream",
          "name": "stdout",
          "text": [
            "---------------------------------------------------\n",
            "Les données ont été sauvegardées dans 'users.csv'\n"
          ]
        }
      ]
    },
    {
      "cell_type": "code",
      "source": [
        "from google.colab import files\n",
        "\n",
        "#Étape 6: Télécharger le fichier CSV\n",
        "files.download(\"users.csv\")\n"
      ],
      "metadata": {
        "colab": {
          "base_uri": "https://localhost:8080/",
          "height": 17
        },
        "id": "7HuJAY3CPOTV",
        "outputId": "f2cb64e1-6ba9-411a-96c7-c4a52fd6ae9a"
      },
      "execution_count": 28,
      "outputs": [
        {
          "output_type": "display_data",
          "data": {
            "text/plain": [
              "<IPython.core.display.Javascript object>"
            ],
            "application/javascript": [
              "\n",
              "    async function download(id, filename, size) {\n",
              "      if (!google.colab.kernel.accessAllowed) {\n",
              "        return;\n",
              "      }\n",
              "      const div = document.createElement('div');\n",
              "      const label = document.createElement('label');\n",
              "      label.textContent = `Downloading \"${filename}\": `;\n",
              "      div.appendChild(label);\n",
              "      const progress = document.createElement('progress');\n",
              "      progress.max = size;\n",
              "      div.appendChild(progress);\n",
              "      document.body.appendChild(div);\n",
              "\n",
              "      const buffers = [];\n",
              "      let downloaded = 0;\n",
              "\n",
              "      const channel = await google.colab.kernel.comms.open(id);\n",
              "      // Send a message to notify the kernel that we're ready.\n",
              "      channel.send({})\n",
              "\n",
              "      for await (const message of channel.messages) {\n",
              "        // Send a message to notify the kernel that we're ready.\n",
              "        channel.send({})\n",
              "        if (message.buffers) {\n",
              "          for (const buffer of message.buffers) {\n",
              "            buffers.push(buffer);\n",
              "            downloaded += buffer.byteLength;\n",
              "            progress.value = downloaded;\n",
              "          }\n",
              "        }\n",
              "      }\n",
              "      const blob = new Blob(buffers, {type: 'application/binary'});\n",
              "      const a = document.createElement('a');\n",
              "      a.href = window.URL.createObjectURL(blob);\n",
              "      a.download = filename;\n",
              "      div.appendChild(a);\n",
              "      a.click();\n",
              "      div.remove();\n",
              "    }\n",
              "  "
            ]
          },
          "metadata": {}
        },
        {
          "output_type": "display_data",
          "data": {
            "text/plain": [
              "<IPython.core.display.Javascript object>"
            ],
            "application/javascript": [
              "download(\"download_369f4e1c-34b2-47c0-9f83-9739e27881b9\", \"users.csv\", 569)"
            ]
          },
          "metadata": {}
        }
      ]
    },
    {
      "cell_type": "markdown",
      "source": [
        "### *Résumé des étapes que j'ai réalisées*\n",
        "\n",
        "1. **Récupération des données via une API** :\n",
        "   - J'ai envoyé une requête GET à l'API `https://jsonplaceholder.typicode.com/users` pour récupérer des informations sur les utilisateurs.\n",
        "\n",
        "2. **Vérification du succès de la requête** :\n",
        "   - J'ai vérifié si la requête a réussi (statut 200). Si oui, j'ai converti les données JSON reçues en une liste Python. Sinon, j'ai affiché un message d'erreur.\n",
        "\n",
        "3. **Création et écriture dans un fichier CSV** :\n",
        "   - J'ai créé un fichier appelé `users.csv`.\n",
        "   - J'y ai ajouté les colonnes (`ID`, `Name`, `Email`, `City`) comme entête.\n",
        "   - J'ai écrit les données des utilisateurs ligne par ligne dans le fichier CSV.\n",
        "\n",
        "4. **Confirmation de la sauvegarde** :\n",
        "   - Une fois toutes les données enregistrées, j'ai affiché un message pour confirmer que l'opération était un succès.\n",
        "\n",
        "5. **Gestion des erreurs** :\n",
        "   - En cas de problème (connexion ou traitement), j'ai capturé l'exception et affiché un message d'erreur pour expliquer la situation.\n",
        "\n",
        "6. **Téléchargement du fichier CSV** :\n",
        "\n",
        "  - J'ai utilisé le module google.colab pour télécharger le fichier CSV créé"
      ],
      "metadata": {
        "id": "u7hNHxpJMfV1"
      }
    },
    {
      "cell_type": "markdown",
      "source": [
        "2. Envoyer une requête POST"
      ],
      "metadata": {
        "id": "oP6EGeLmR5cP"
      }
    },
    {
      "cell_type": "code",
      "source": [
        "#Étape 1: Créer un nouvel utilisateur\n",
        "new_user = {\n",
        "    \"name\": \"Jane Doe\",\n",
        "    \"email\": \"janedoe@example.com\",\n",
        "    \"address\": {\"city\": \"Paris\"}\n",
        "}\n"
      ],
      "metadata": {
        "id": "YJfHDHhoS2_j"
      },
      "execution_count": 34,
      "outputs": []
    },
    {
      "cell_type": "code",
      "source": [
        "#Étape 2: Envoyer une requête POST à l'API pour ajouter le nouvel utilisateur\n",
        "response = requests.post(\"https://jsonplaceholder.typicode.com/users\", json=new_user)\n",
        "\n",
        "#Étape 3: Vérifier si l'utilisateur a été ajouté avec succès\n",
        "if response.status_code == 201:\n",
        "    print(\"Nouvel utilisateur ajouté avec succès!\") #afficher un msg de confirmation si l'utilisateur a été bien ajouté\n",
        "    print(response.json())  # Afficher les données de l'utilisateur ajouté\n",
        "else:\n",
        "    print(\"Erreur lors de l'ajout de l'utilisateur\") #Afficher un message d'erreur si la requête a été échouée\n"
      ],
      "metadata": {
        "colab": {
          "base_uri": "https://localhost:8080/"
        },
        "id": "M9C5GbTqSjS1",
        "outputId": "8372ad2f-dd3d-4105-ddb0-e19fa7b2c391"
      },
      "execution_count": 35,
      "outputs": [
        {
          "output_type": "stream",
          "name": "stdout",
          "text": [
            "Nouvel utilisateur ajouté avec succès!\n",
            "{'name': 'Jane Doe', 'email': 'janedoe@example.com', 'address': {'city': 'Paris'}, 'id': 11}\n"
          ]
        }
      ]
    },
    {
      "cell_type": "markdown",
      "source": [
        "### *Résumé des étapes réalisées pour la requête POST*\n",
        "\n",
        "1. **Étape 1 - Création des données du nouvel utilisateur** :\n",
        "   - J'ai créé un dictionnaire contenant les informations du nouvel utilisateur, incluant son nom, son email, et son adresse avec la ville de Paris.\n",
        "\n",
        "2. **Étape 2 - Envoi de la requête POST** :\n",
        "   - J'ai envoyé une requête **POST** à l'API **JSONPlaceholder** pour ajouter le nouvel utilisateur.\n",
        "\n",
        "3. **Étape 3 - Vérification de la réussite de l'ajout** :\n",
        "   - Le code vérifie si la requête a été traitée avec succès (status code **201**). Si oui, un message de confirmation est affiché avec les données de l'utilisateur ajouté. Si la requête échoue, un message d'erreur est affiché.\n",
        "\n",
        "\n"
      ],
      "metadata": {
        "id": "4lgGBI3hwED4"
      }
    },
    {
      "cell_type": "markdown",
      "source": [
        "3. Utilisation de la requête PUT"
      ],
      "metadata": {
        "id": "JEOcAk8KULox"
      }
    },
    {
      "cell_type": "code",
      "source": [
        "#Étape 1: Définir les données mises à jour pour l'utilisateur\n",
        "updated_user = {\n",
        "    \"name\": \"John Updated\",\n",
        "    \"email\": \"johnupdated@example.com\"\n",
        "}\n",
        "\n",
        "#Étape 2: Envoyer une requête PUT à l'API pour mettre à jour les informations de l'utilisateur avec ID 1\n",
        "response = requests.put(\"https://jsonplaceholder.typicode.com/users/1\", json=updated_user)\n",
        "\n",
        "#Étape 3: Vérifier si la mise à jour a réussi\n",
        "if response.status_code == 200:\n",
        "    print(\"Utilisateur mis à jour avec succès!\")\n",
        "    print(response.json())  # Afficher les données mises à jour\n",
        "else:\n",
        "    print(\"Erreur lors de la mise à jour de l'utilisateur\") # Si la requête échoue, afficher un message d'erreur\n"
      ],
      "metadata": {
        "colab": {
          "base_uri": "https://localhost:8080/"
        },
        "id": "pZCB-iEfUOds",
        "outputId": "d0153e59-fc24-4d24-9506-ab7aff6f41d3"
      },
      "execution_count": 32,
      "outputs": [
        {
          "output_type": "stream",
          "name": "stdout",
          "text": [
            "Utilisateur mis à jour avec succès!\n",
            "{'name': 'John Updated', 'email': 'johnupdated@example.com', 'id': 1}\n"
          ]
        }
      ]
    },
    {
      "cell_type": "markdown",
      "source": [
        "### *Résumé des étapes réalisées pour mettre à jour un utilisateur*\n",
        "\n",
        "1. **Étape 1 - Définir les données mises à jour pour l'utilisateur** :\n",
        "   - J'ai créé un dictionnaire contenant les nouvelles informations de l'utilisateur à mettre à jour, avec un nouveau nom et un nouvel email.\n",
        "\n",
        "2. **Étape 2 - Envoi de la requête PUT** :\n",
        "   - J'ai envoyé une requête **PUT** à l'API **JSONPlaceholder** pour mettre à jour les informations de l'utilisateur avec l'ID `1`.\n",
        "\n",
        "3. **Étape 3 - Vérification de la réussite de la mise à jour** :\n",
        "   - J'ai vérifié si la mise à jour a réussi en contrôlant le **code de statut HTTP** (200 pour succès). Si la requête a réussi, le programme affiche un message de confirmation avec les nouvelles données de l'utilisateur. Si la requête échoue, il affiche un message d'erreur.\n",
        "\n"
      ],
      "metadata": {
        "id": "WZUic0Xsx9Qp"
      }
    },
    {
      "cell_type": "markdown",
      "source": [
        "4. Utilisation de la requête DELETE"
      ],
      "metadata": {
        "id": "-VlPg5j7UZXx"
      }
    },
    {
      "cell_type": "code",
      "source": [
        "#Étape 1: Envoyer une requête DELETE pour supprimer un utilisateur avec l'ID 2\n",
        "response = requests.delete(\"https://jsonplaceholder.typicode.com/users/2\")\n",
        "\n",
        "# Vérifier si la suppression de l'utilisateur a réussi\n",
        "if response.status_code == 200:\n",
        "    print(\"Utilisateur supprimé avec succès!\")\n",
        "else:\n",
        "    print(\"Erreur lors de la suppression de l'utilisateur\")\n",
        "\n",
        "\n",
        "# Étape 2: Vérifier si l'utilisateur a bien été supprimé\n",
        "# Envoyer une requête GET pour récupérer l'utilisateur avec l'ID 2\n",
        "response = requests.get(\"https://jsonplaceholder.typicode.com/users/2\")\n",
        "print(response.status_code)\n",
        "# Vérifier si l'utilisateur existe toujours\n",
        "if response.status_code == 404:\n",
        "    print(\"L'utilisateur n'existe plus\")\n",
        "else:\n",
        "    print(\"L'utilisateur existe toujours\")\n"
      ],
      "metadata": {
        "colab": {
          "base_uri": "https://localhost:8080/"
        },
        "id": "VqNzcUL5Ub84",
        "outputId": "b599a82a-bab6-4a87-d5ef-81e4e8508e6e"
      },
      "execution_count": 45,
      "outputs": [
        {
          "output_type": "stream",
          "name": "stdout",
          "text": [
            "Utilisateur supprimé avec succès!\n",
            "200\n",
            "L'utilisateur existe toujours\n"
          ]
        }
      ]
    },
    {
      "cell_type": "markdown",
      "source": [
        "### *Résumé des étapes réalisées pour supprimer un utilisateur avec la requête DELETE*\n",
        "\n",
        "1. **Étape 1 - Suppression de l'utilisateur**  :\n",
        "   - J'ai envoyé une requête **DELETE** à l'API **JSONPlaceholder** pour supprimer un utilisateur avec l'ID `2`.\n",
        "   - Après l'envoi de la requête, j'ai vérifié si la suppression a été réussie en vérifiant le code de statut de la réponse.\n",
        "   - Si le code est **200**, cela signifie que la suppression a été effectuée avec succès, et un message de confirmation a été affiché. Si la requête échoue, un message d'erreur est affiché.\n",
        "\n",
        "2. **Étape 2 - Vérification de la suppression de l'utilisateur (requête GET)** :\n",
        "   - Ensuite, j'ai envoyé une requête **GET** à l'API pour tenter de récupérer l'utilisateur avec l'ID `2`.\n",
        "   - Si la réponse renvoie un code de statut **404**, cela signifie que l'utilisateur n'a pas été trouvé, ce qui confirme qu'il a été supprimé. Si la réponse renvoie un autre code, cela signifie que l'utilisateur existe encore.\n",
        "\n",
        "   La sortie du code indique que la requête a été envoyée correctement et que l'utilisateur a été supprimé avec succès. Cependant, à la vérification de la suppression, le code montre que l'utilisateur existe toujours. Cela signifie que **JSONPlaceholder** simule la suppression, mais ne modifie pas réellement sa base de données.\n",
        "\n",
        "\n"
      ],
      "metadata": {
        "id": "yjXN97dpzVaU"
      }
    },
    {
      "cell_type": "markdown",
      "source": [
        "# Partie 2 : Collecte et analyse descriptive de données via une API REST\n"
      ],
      "metadata": {
        "id": "i8F-b-fQ1-jm"
      }
    },
    {
      "cell_type": "markdown",
      "source": [
        "1. Collecte de données via une API REST :\n"
      ],
      "metadata": {
        "id": "6dk9lf4-2W2t"
      }
    },
    {
      "cell_type": "code",
      "source": [
        "#Importation de bibliothèques\n",
        "import requests\n",
        "import pandas as pd\n",
        "\n",
        "# URL de l'API pour récupérer les données COVID-19 en France\n",
        "url = \"https://api.covidtracking.com/v1/us/daily.json\"\n"
      ],
      "metadata": {
        "id": "E9foaGb443iG"
      },
      "execution_count": 48,
      "outputs": []
    },
    {
      "cell_type": "code",
      "source": [
        "# Étape 1 : Envoyer une requête GET à l'API pour récupérer les données\n",
        "response = requests.get(url)\n",
        "\n",
        "# Étape 2: Vérifier si la requête a réussi\n",
        "if response.status_code == 200:\n",
        "\n",
        "    # Étape 3: Convertir la réponse JSON en un DataFrame pandas\n",
        "    data = response.json()\n",
        "    df = pd.DataFrame(data)\n",
        "\n",
        "    # Étape 4: Sauvegarder les données dans un fichier CSV\n",
        "    df.to_csv(\"covid_france_data.csv\", index=False)\n",
        "    print(\"Données récupérées et sauvegardées dans 'covid_france_data.csv'\")\n",
        "else:\n",
        "    print(\"Erreur lors de la récupération des données\")\n"
      ],
      "metadata": {
        "colab": {
          "base_uri": "https://localhost:8080/"
        },
        "id": "syeLkh-NRLjn",
        "outputId": "7d470553-1060-4dc2-94d5-81fb85ad295d"
      },
      "execution_count": 49,
      "outputs": [
        {
          "output_type": "stream",
          "name": "stdout",
          "text": [
            "Données récupérées et sauvegardées dans 'covid_france_data.csv'\n"
          ]
        }
      ]
    },
    {
      "cell_type": "code",
      "source": [
        "# Étape 5: Télécharger le fichier CSV\n",
        "from google.colab import files\n",
        "files.download(\"covid_france_data.csv\")"
      ],
      "metadata": {
        "colab": {
          "base_uri": "https://localhost:8080/",
          "height": 17
        },
        "id": "tv-T8mj7L01S",
        "outputId": "2c0d7b0e-9c9b-41b5-a9dd-bb244c2910f9"
      },
      "execution_count": 13,
      "outputs": [
        {
          "output_type": "display_data",
          "data": {
            "text/plain": [
              "<IPython.core.display.Javascript object>"
            ],
            "application/javascript": [
              "\n",
              "    async function download(id, filename, size) {\n",
              "      if (!google.colab.kernel.accessAllowed) {\n",
              "        return;\n",
              "      }\n",
              "      const div = document.createElement('div');\n",
              "      const label = document.createElement('label');\n",
              "      label.textContent = `Downloading \"${filename}\": `;\n",
              "      div.appendChild(label);\n",
              "      const progress = document.createElement('progress');\n",
              "      progress.max = size;\n",
              "      div.appendChild(progress);\n",
              "      document.body.appendChild(div);\n",
              "\n",
              "      const buffers = [];\n",
              "      let downloaded = 0;\n",
              "\n",
              "      const channel = await google.colab.kernel.comms.open(id);\n",
              "      // Send a message to notify the kernel that we're ready.\n",
              "      channel.send({})\n",
              "\n",
              "      for await (const message of channel.messages) {\n",
              "        // Send a message to notify the kernel that we're ready.\n",
              "        channel.send({})\n",
              "        if (message.buffers) {\n",
              "          for (const buffer of message.buffers) {\n",
              "            buffers.push(buffer);\n",
              "            downloaded += buffer.byteLength;\n",
              "            progress.value = downloaded;\n",
              "          }\n",
              "        }\n",
              "      }\n",
              "      const blob = new Blob(buffers, {type: 'application/binary'});\n",
              "      const a = document.createElement('a');\n",
              "      a.href = window.URL.createObjectURL(blob);\n",
              "      a.download = filename;\n",
              "      div.appendChild(a);\n",
              "      a.click();\n",
              "      div.remove();\n",
              "    }\n",
              "  "
            ]
          },
          "metadata": {}
        },
        {
          "output_type": "display_data",
          "data": {
            "text/plain": [
              "<IPython.core.display.Javascript object>"
            ],
            "application/javascript": [
              "download(\"download_ff3c8dd7-658a-4801-b112-89a7d02103c9\", \"covid_france_data.csv\", 90880)"
            ]
          },
          "metadata": {}
        }
      ]
    },
    {
      "cell_type": "markdown",
      "source": [
        "### *Résumé du Collecte de données via une API REST*\n",
        "\n",
        "1. **Étape 1 - Envoi de la requête GET** :  \n",
        "   J'ai envoyé une requête **GET** à l'API pour récupérer les données COVID-19 en France.\n",
        "\n",
        "2. **Étape 2 - Vérification de la réussite de la requête** :  \n",
        "   J'ai vérifié si la requête a réussi en contrôlant le *code de statut HTTP*.\n",
        "\n",
        "3. **Étape 3 - Conversion des données JSON en DataFrame pandas** :  \n",
        "   J'ai converti la réponse JSON obtenue en un *DataFrame pandas*, ce qui m'a permis de manipuler facilement les données.\n",
        "\n",
        "4. **Étape 4 - Sauvegarde des données dans un fichier CSV** :  \n",
        "   J'ai sauvegardé les données traitées dans un fichier *CSV* nommé `covid_france_data.csv` pour les conserver.\n",
        "\n",
        "5. **Étape 5 - Téléchargement du fichier CSV** :  \n",
        "   J'ai téléchargé le fichier *CSV* sur mon ordinateur localement.\n",
        "\n",
        "\n"
      ],
      "metadata": {
        "id": "YdgIX-OTUZ2Z"
      }
    },
    {
      "cell_type": "markdown",
      "source": [
        "### 2. Préparation des données :"
      ],
      "metadata": {
        "id": "B_fnRQt_J1-2"
      }
    },
    {
      "cell_type": "markdown",
      "source": [
        "2.1 Charger et nettoyer les données :"
      ],
      "metadata": {
        "id": "BUrBYsh_J_Ok"
      }
    },
    {
      "cell_type": "code",
      "source": [
        "# Étape  1:Charger le fichier CSV dans un DataFrame pandas\n",
        "df = pd.read_csv(\"/content/covid_france_data (1).csv\")\n",
        "\n",
        "# Un apercu global sur les données\n",
        "# Afficher les 5 premières lignes\n",
        "print(df.head())\n",
        "print(\"----------------------------------------------\")\n",
        "\n",
        "# Afficher les colonnes disponibles dans le jeu de données\n",
        "print(df.columns)\n",
        "print(\"----------------------------------------------\")\n",
        "\n",
        "# Vérifier les types de données des colonnes\n",
        "print(df.dtypes)\n",
        "print(\"----------------------------------------------\")\n"
      ],
      "metadata": {
        "colab": {
          "base_uri": "https://localhost:8080/"
        },
        "id": "5hZYy932J6cb",
        "outputId": "4304b57e-6b3a-4a13-8a98-be5143c06272"
      },
      "execution_count": 51,
      "outputs": [
        {
          "output_type": "stream",
          "name": "stdout",
          "text": [
            "       date  states    positive    negative  pending  hospitalizedCurrently  \\\n",
            "0  20210307      56  28756489.0  74582825.0  11808.0                40199.0   \n",
            "1  20210306      56  28714654.0  74450990.0  11783.0                41401.0   \n",
            "2  20210305      56  28654639.0  74307155.0  12213.0                42541.0   \n",
            "3  20210304      56  28585852.0  74035238.0  12405.0                44172.0   \n",
            "4  20210303      56  28520365.0  73857281.0  11778.0                45462.0   \n",
            "\n",
            "   hospitalizedCumulative  inIcuCurrently  inIcuCumulative  \\\n",
            "0                776361.0          8134.0          45475.0   \n",
            "1                775635.0          8409.0          45453.0   \n",
            "2                775132.0          8634.0          45373.0   \n",
            "3                772351.0          8970.0          45293.0   \n",
            "4                770821.0          9359.0          45214.0   \n",
            "\n",
            "   onVentilatorCurrently  ...          lastModified recovered  total  posNeg  \\\n",
            "0                 2802.0  ...  2021-03-07T24:00:00Z       NaN      0       0   \n",
            "1                 2811.0  ...  2021-03-06T24:00:00Z       NaN      0       0   \n",
            "2                 2889.0  ...  2021-03-05T24:00:00Z       NaN      0       0   \n",
            "3                 2973.0  ...  2021-03-04T24:00:00Z       NaN      0       0   \n",
            "4                 3094.0  ...  2021-03-03T24:00:00Z       NaN      0       0   \n",
            "\n",
            "   deathIncrease hospitalizedIncrease  negativeIncrease  positiveIncrease  \\\n",
            "0            842                  726            131835             41835   \n",
            "1           1680                  503            143835             60015   \n",
            "2           2221                 2781            271917             68787   \n",
            "3           1743                 1530            177957             65487   \n",
            "4           2449                 2172            267001             66836   \n",
            "\n",
            "   totalTestResultsIncrease                                      hash  \n",
            "0                   1170059  a80d0063822e251249fd9a44730c49cb23defd83  \n",
            "1                   1430992  dae5e558c24adb86686bbd58c08cce5f610b8bb0  \n",
            "2                   1744417  724844c01659d0103801c57c0f72bf8cc8ab025c  \n",
            "3                   1590984  5c549ad30f9abf48dc5de36d20fa707014be1ff3  \n",
            "4                   1406795  fef6c425d2b773a9221fe353f13852f3e4a4bfb0  \n",
            "\n",
            "[5 rows x 25 columns]\n",
            "----------------------------------------------\n",
            "Index(['date', 'states', 'positive', 'negative', 'pending',\n",
            "       'hospitalizedCurrently', 'hospitalizedCumulative', 'inIcuCurrently',\n",
            "       'inIcuCumulative', 'onVentilatorCurrently', 'onVentilatorCumulative',\n",
            "       'dateChecked', 'death', 'hospitalized', 'totalTestResults',\n",
            "       'lastModified', 'recovered', 'total', 'posNeg', 'deathIncrease',\n",
            "       'hospitalizedIncrease', 'negativeIncrease', 'positiveIncrease',\n",
            "       'totalTestResultsIncrease', 'hash'],\n",
            "      dtype='object')\n",
            "----------------------------------------------\n",
            "date                          int64\n",
            "states                        int64\n",
            "positive                    float64\n",
            "negative                    float64\n",
            "pending                     float64\n",
            "hospitalizedCurrently       float64\n",
            "hospitalizedCumulative      float64\n",
            "inIcuCurrently              float64\n",
            "inIcuCumulative             float64\n",
            "onVentilatorCurrently       float64\n",
            "onVentilatorCumulative      float64\n",
            "dateChecked                  object\n",
            "death                       float64\n",
            "hospitalized                float64\n",
            "totalTestResults              int64\n",
            "lastModified                 object\n",
            "recovered                   float64\n",
            "total                         int64\n",
            "posNeg                        int64\n",
            "deathIncrease                 int64\n",
            "hospitalizedIncrease          int64\n",
            "negativeIncrease              int64\n",
            "positiveIncrease              int64\n",
            "totalTestResultsIncrease      int64\n",
            "hash                         object\n",
            "dtype: object\n",
            "----------------------------------------------\n"
          ]
        }
      ]
    },
    {
      "cell_type": "code",
      "source": [
        "# Étape 2: Identifier les valeurs manquantes\n",
        "\n",
        "print(df.isnull().sum())  # Nombre de valeurs manquantes par colonne\n",
        "print(\"-------------------------------------------------\")\n",
        "print(df.isnull().mean() * 100)  # Pourcentage de valeurs manquantes\n"
      ],
      "metadata": {
        "colab": {
          "base_uri": "https://localhost:8080/"
        },
        "id": "zzvcOu-oVHPk",
        "outputId": "0f2d9c0d-d108-414a-b799-667d5937e805"
      },
      "execution_count": 50,
      "outputs": [
        {
          "output_type": "stream",
          "name": "stdout",
          "text": [
            "date                          0\n",
            "states                        0\n",
            "positive                      1\n",
            "negative                     48\n",
            "pending                      51\n",
            "hospitalizedCurrently        64\n",
            "hospitalizedCumulative       51\n",
            "inIcuCurrently               73\n",
            "inIcuCumulative              72\n",
            "onVentilatorCurrently        72\n",
            "onVentilatorCumulative       79\n",
            "dateChecked                   0\n",
            "death                        28\n",
            "hospitalized                 51\n",
            "totalTestResults              0\n",
            "lastModified                  0\n",
            "recovered                   420\n",
            "total                         0\n",
            "posNeg                        0\n",
            "deathIncrease                 0\n",
            "hospitalizedIncrease          0\n",
            "negativeIncrease              0\n",
            "positiveIncrease              0\n",
            "totalTestResultsIncrease      0\n",
            "hash                          0\n",
            "dtype: int64\n",
            "-------------------------------------------------\n",
            "date                          0.000000\n",
            "states                        0.000000\n",
            "positive                      0.238095\n",
            "negative                     11.428571\n",
            "pending                      12.142857\n",
            "hospitalizedCurrently        15.238095\n",
            "hospitalizedCumulative       12.142857\n",
            "inIcuCurrently               17.380952\n",
            "inIcuCumulative              17.142857\n",
            "onVentilatorCurrently        17.142857\n",
            "onVentilatorCumulative       18.809524\n",
            "dateChecked                   0.000000\n",
            "death                         6.666667\n",
            "hospitalized                 12.142857\n",
            "totalTestResults              0.000000\n",
            "lastModified                  0.000000\n",
            "recovered                   100.000000\n",
            "total                         0.000000\n",
            "posNeg                        0.000000\n",
            "deathIncrease                 0.000000\n",
            "hospitalizedIncrease          0.000000\n",
            "negativeIncrease              0.000000\n",
            "positiveIncrease              0.000000\n",
            "totalTestResultsIncrease      0.000000\n",
            "hash                          0.000000\n",
            "dtype: float64\n"
          ]
        }
      ]
    },
    {
      "cell_type": "markdown",
      "source": [
        "2.2 Nettoyage des données :"
      ],
      "metadata": {
        "id": "zqlXNYmJKVcc"
      }
    },
    {
      "cell_type": "code",
      "source": [
        "# Étape 3: gestion des valeurs manquantes\n",
        "\n",
        "#Imputation des valeurs manquantes par la moyenne\n",
        "colonnes_a_conserver = df.columns[df.isnull().mean() < 0.9] #les colonnes avec moins de 90 % de valeurs manquantes\n",
        "\n",
        "for colonne in colonnes_a_conserver:\n",
        "    if df[colonne].dtype in ['float64', 'int64']:  # Colonnes numériques uniquement\n",
        "        df[colonne].fillna(df[colonne].mean(), inplace=True)\n",
        "\n",
        "# Afficher les données après imputation des valeurs manquantes\n",
        "print(\"\\nDonnées après imputation :\")\n",
        "\n",
        "# Vérifier les valeurs manquantes après l'imputation\n",
        "print(df.isnull().sum())\n",
        "\n"
      ],
      "metadata": {
        "colab": {
          "base_uri": "https://localhost:8080/"
        },
        "id": "mgrKliWML-gl",
        "outputId": "6d0e7120-abd7-40a6-fc8a-884bc674090e"
      },
      "execution_count": 52,
      "outputs": [
        {
          "output_type": "stream",
          "name": "stdout",
          "text": [
            "\n",
            "Données après imputation :\n",
            "date                          0\n",
            "states                        0\n",
            "positive                      0\n",
            "negative                      0\n",
            "pending                       0\n",
            "hospitalizedCurrently         0\n",
            "hospitalizedCumulative        0\n",
            "inIcuCurrently                0\n",
            "inIcuCumulative               0\n",
            "onVentilatorCurrently         0\n",
            "onVentilatorCumulative        0\n",
            "dateChecked                   0\n",
            "death                         0\n",
            "hospitalized                  0\n",
            "totalTestResults              0\n",
            "lastModified                  0\n",
            "recovered                   420\n",
            "total                         0\n",
            "posNeg                        0\n",
            "deathIncrease                 0\n",
            "hospitalizedIncrease          0\n",
            "negativeIncrease              0\n",
            "positiveIncrease              0\n",
            "totalTestResultsIncrease      0\n",
            "hash                          0\n",
            "dtype: int64\n"
          ]
        },
        {
          "output_type": "stream",
          "name": "stderr",
          "text": [
            "<ipython-input-52-a7f2eff21427>:7: FutureWarning: A value is trying to be set on a copy of a DataFrame or Series through chained assignment using an inplace method.\n",
            "The behavior will change in pandas 3.0. This inplace method will never work because the intermediate object on which we are setting values always behaves as a copy.\n",
            "\n",
            "For example, when doing 'df[col].method(value, inplace=True)', try using 'df.method({col: value}, inplace=True)' or df[col] = df[col].method(value) instead, to perform the operation inplace on the original object.\n",
            "\n",
            "\n",
            "  df[colonne].fillna(df[colonne].mean(), inplace=True)\n"
          ]
        }
      ]
    },
    {
      "cell_type": "code",
      "source": [
        "# Supprimer les colonnes contenant plus de 90% de valeurs manquantes\n",
        "df_cleaned = df.dropna(axis=1, thresh=len(df) * 9.0 / 10.0)\n",
        "\n",
        "# Afficher les données après suppression des colonnes\n",
        "print(\"\\nDonnées après suppression des colonnes :\")\n",
        "#vérifier la suppression des valeurs manquantes\n",
        "print(df_cleaned.isnull().sum())\n",
        "\n"
      ],
      "metadata": {
        "colab": {
          "base_uri": "https://localhost:8080/"
        },
        "id": "s6kQ35WLEzxl",
        "outputId": "724c630f-ca1f-415d-fcca-941396ffbaed"
      },
      "execution_count": 47,
      "outputs": [
        {
          "output_type": "stream",
          "name": "stdout",
          "text": [
            "\n",
            "Données après suppression des colonnes :\n",
            "date                        0\n",
            "states                      0\n",
            "positive                    0\n",
            "negative                    0\n",
            "pending                     0\n",
            "hospitalizedCurrently       0\n",
            "hospitalizedCumulative      0\n",
            "inIcuCurrently              0\n",
            "inIcuCumulative             0\n",
            "onVentilatorCurrently       0\n",
            "onVentilatorCumulative      0\n",
            "dateChecked                 0\n",
            "death                       0\n",
            "hospitalized                0\n",
            "totalTestResults            0\n",
            "lastModified                0\n",
            "total                       0\n",
            "posNeg                      0\n",
            "deathIncrease               0\n",
            "hospitalizedIncrease        0\n",
            "negativeIncrease            0\n",
            "positiveIncrease            0\n",
            "totalTestResultsIncrease    0\n",
            "hash                        0\n",
            "dtype: int64\n"
          ]
        }
      ]
    },
    {
      "cell_type": "code",
      "source": [
        "# Étape 4: idenfifier les doublons\n",
        "# Afficher les doublons de toutes les colonnes\n",
        "duplicates = df[df.duplicated()]\n",
        "\n",
        "# Afficher les doublons\n",
        "print(\"Les doublons dans le fichier CSV :\")\n",
        "print(duplicates)"
      ],
      "metadata": {
        "colab": {
          "base_uri": "https://localhost:8080/"
        },
        "id": "Mx0_0IeFXcX5",
        "outputId": "e568dc09-f178-4147-da30-fc2f8585db12"
      },
      "execution_count": 53,
      "outputs": [
        {
          "output_type": "stream",
          "name": "stdout",
          "text": [
            "Les doublons dans le fichier CSV :\n",
            "Empty DataFrame\n",
            "Columns: [date, states, positive, negative, pending, hospitalizedCurrently, hospitalizedCumulative, inIcuCurrently, inIcuCumulative, onVentilatorCurrently, onVentilatorCumulative, dateChecked, death, hospitalized, totalTestResults, lastModified, recovered, total, posNeg, deathIncrease, hospitalizedIncrease, negativeIncrease, positiveIncrease, totalTestResultsIncrease, hash]\n",
            "Index: []\n",
            "\n",
            "[0 rows x 25 columns]\n"
          ]
        }
      ]
    },
    {
      "cell_type": "code",
      "source": [
        "# Afficher les doublons en fonction des colonnes('date', 'states', 'positive')\n",
        "duplicates = df[df.duplicated(subset=['date', 'states', 'positive'])]\n",
        "\n",
        "# Afficher les doublons trouvés\n",
        "print(duplicates)\n"
      ],
      "metadata": {
        "colab": {
          "base_uri": "https://localhost:8080/"
        },
        "id": "ur9CcWvRXz_o",
        "outputId": "56b20491-77d6-4005-c735-2341c8ca0138"
      },
      "execution_count": 54,
      "outputs": [
        {
          "output_type": "stream",
          "name": "stdout",
          "text": [
            "Empty DataFrame\n",
            "Columns: [date, states, positive, negative, pending, hospitalizedCurrently, hospitalizedCumulative, inIcuCurrently, inIcuCumulative, onVentilatorCurrently, onVentilatorCumulative, dateChecked, death, hospitalized, totalTestResults, lastModified, recovered, total, posNeg, deathIncrease, hospitalizedIncrease, negativeIncrease, positiveIncrease, totalTestResultsIncrease, hash]\n",
            "Index: []\n",
            "\n",
            "[0 rows x 25 columns]\n"
          ]
        }
      ]
    },
    {
      "cell_type": "markdown",
      "source": [
        "### **Explication du processus de préparation des données**\n",
        "\n",
        "1. **Charger et inspecter les données :**\n",
        "   - J'ai utilisé **`pd.read_csv()`** pour charger le fichier CSV dans un DataFrame pandas.\n",
        "   - Ensuite, j'ai affiché les 5 premières lignes du DataFrame pour avoir un aperçu rapide des données et vérifier leur format.\n",
        "   - J'ai également vérifié les noms des colonnes et les types de données afin de mieux comprendre les informations contenues dans le jeu de données.\n",
        "\n",
        "2. **Identifier les valeurs manquantes :**\n",
        "   - J'ai utilisé **`df.isnull().sum()`** pour obtenir le nombre de valeurs manquantes dans chaque colonne.\n",
        "   - Ensuite, j'ai calculé le pourcentage de valeurs manquantes par colonne afin d'identifier les colonnes avec un grand nombre de valeurs manquantes. Cela m'a aidé à décider quelles colonnes traiter et quelles colonnes pourraient être supprimées.\n",
        "\n",
        "3. **Imputation des valeurs manquantes :**\n",
        "   - J'ai sélectionné les colonnes avec moins de 90 % de valeurs manquantes. Cela m'a permis de ne traiter que les colonnes qui contiennent une quantité raisonnable de données.\n",
        "   - Pour ces colonnes numériques, j'ai imputé les valeurs manquantes par la moyenne de chaque colonne. Cela garantit que les colonnes numériques ne perdent pas d'informations importantes à cause des valeurs manquantes.\n",
        "\n",
        "4. **Suppression des colonnes avec trop de valeurs manquantes :**\n",
        "   - J'ai supprimé les colonnes contenant plus de 90 % de valeurs manquantes. Cela permet de nettoyer les colonnes qui ne fournissent pas suffisamment d'informations et de garder uniquement les colonnes pertinentes.\n",
        "\n",
        "5. **Vérification des modifications :**\n",
        "   - Après avoir imputé les valeurs manquantes et supprimé certaines colonnes, j'ai vérifié que les données étaient correctement nettoyées en affichant à nouveau le nombre de valeurs manquantes restantes.\n",
        "   \n",
        "\n",
        "6. **Identification des doublons :**\n",
        "   - J'ai utilisé **`df.duplicated()`** pour identifier les doublons dans toutes les colonnes. Après que le code m'a affiché qu'il n'y avait pas de doublons dans l'ensemble complet des colonnes, j'ai décidé d'identifier les doublons spécifiquement en fonction des colonnes **`'date'`, `'states'`**, et **`'positive'`**. Cela m'a permis de vérifier si des enregistrements en double existaient pour ces critères particuliers.\n",
        "\n",
        "\n",
        "\n"
      ],
      "metadata": {
        "id": "FXyGge1ziClr"
      }
    },
    {
      "cell_type": "markdown",
      "source": [
        "### 3. Analyse descriptive :"
      ],
      "metadata": {
        "id": "g-lNGng-KrS-"
      }
    },
    {
      "cell_type": "markdown",
      "source": [
        "3.1 Calcul des statistiques de base :"
      ],
      "metadata": {
        "id": "wz4BS5OdLD7A"
      }
    },
    {
      "cell_type": "code",
      "source": [
        "# Calculer la moyenne, médiane, minimum, maximum, écart-type\n",
        "mean_cases = df[\"positive\"].mean()\n",
        "median_cases = df[\"positive\"].median()\n",
        "min_cases = df[\"positive\"].min()\n",
        "max_cases = df[\"positive\"].max()\n",
        "std_dev_cases = df[\"positive\"].std()\n",
        "\n",
        "print(f\"Moyenne des cas : {mean_cases}\")\n",
        "print(f\"Médiane des cas : {median_cases}\")\n",
        "print(f\"Cas minimum : {min_cases}\")\n",
        "print(f\"Cas maximum : {max_cases}\")\n",
        "print(f\"Écart-type des cas : {std_dev_cases}\")\n",
        "\n",
        "# Calculer le nombre total de décès\n",
        "total_deaths = df[\"death\"].sum()\n",
        "print(f\"Nombre total de décès : {total_deaths}\")\n"
      ],
      "metadata": {
        "colab": {
          "base_uri": "https://localhost:8080/"
        },
        "id": "ayiMzcbqKvQP",
        "outputId": "793ff5c7-151d-431d-bd99-a1845da0bf86"
      },
      "execution_count": 23,
      "outputs": [
        {
          "output_type": "stream",
          "name": "stdout",
          "text": [
            "Moyenne des cas : 8116686.680190931\n",
            "Médiane des cas : 5044337.0\n",
            "Cas minimum : 0.0\n",
            "Cas maximum : 28756489.0\n",
            "Écart-type des cas : 8967431.63277846\n",
            "Nombre total de décès : 73386582.0\n"
          ]
        }
      ]
    },
    {
      "cell_type": "code",
      "source": [
        "df.describe()"
      ],
      "metadata": {
        "colab": {
          "base_uri": "https://localhost:8080/",
          "height": 350
        },
        "id": "8qd31xyFLORd",
        "outputId": "c1441d36-e68c-4d3f-dbc8-31297986912f"
      },
      "execution_count": 24,
      "outputs": [
        {
          "output_type": "execute_result",
          "data": {
            "text/plain": [
              "               date      states      positive      negative       pending  \\\n",
              "count  4.200000e+02  420.000000  4.190000e+02  3.720000e+02    369.000000   \n",
              "mean   2.020218e+07   49.476190  8.116687e+06  3.030351e+07   9617.308943   \n",
              "std    3.472227e+03   16.896764  8.967432e+06  2.407815e+07   9920.899709   \n",
              "min    2.020011e+07    1.000000  0.000000e+00  2.000000e+00    106.000000   \n",
              "25%    2.020043e+07   56.000000  1.004386e+06  6.753778e+06   3377.000000   \n",
              "50%    2.020081e+07   56.000000  5.044337e+06  2.757246e+07   9939.000000   \n",
              "75%    2.020112e+07   56.000000  1.234137e+07  5.084301e+07  11957.000000   \n",
              "max    2.021031e+07   56.000000  2.875649e+07  7.458282e+07  65698.000000   \n",
              "\n",
              "       hospitalizedCurrently  hospitalizedCumulative  inIcuCurrently  \\\n",
              "count             356.000000              369.000000      347.000000   \n",
              "mean            57987.117978           310817.140921    12059.227666   \n",
              "std             31898.555998           235557.870159     5668.415483   \n",
              "min               325.000000                4.000000     1299.000000   \n",
              "25%             35100.500000           123250.000000     7495.500000   \n",
              "50%             48811.000000           280138.000000    10114.000000   \n",
              "75%             70519.250000           481309.000000    15596.500000   \n",
              "max            132474.000000           776361.000000    23912.000000   \n",
              "\n",
              "       inIcuCumulative  onVentilatorCurrently  ...   hospitalized  \\\n",
              "count       348.000000             348.000000  ...     369.000000   \n",
              "mean      21059.344828            3975.298851  ...  310817.140921   \n",
              "std       13572.638376            2191.080602  ...  235557.870159   \n",
              "min          74.000000             167.000000  ...       4.000000   \n",
              "25%        9900.250000            2168.500000  ...  123250.000000   \n",
              "50%       18797.500000            3186.500000  ...  280138.000000   \n",
              "75%       32998.500000            5828.500000  ...  481309.000000   \n",
              "max       45475.000000            8004.000000  ...  776361.000000   \n",
              "\n",
              "       totalTestResults  recovered  total  posNeg  deathIncrease  \\\n",
              "count      4.200000e+02        0.0  420.0   420.0     420.000000   \n",
              "mean       1.073369e+08        NaN    0.0     0.0    1226.550000   \n",
              "std        1.129172e+08        NaN    0.0     0.0    1070.129644   \n",
              "min        0.000000e+00        NaN    0.0     0.0       0.000000   \n",
              "25%        5.888598e+06        NaN    0.0     0.0     439.750000   \n",
              "50%        6.839699e+07        NaN    0.0     0.0    1016.000000   \n",
              "75%        1.854937e+08        NaN    0.0     0.0    1642.500000   \n",
              "max        3.638251e+08        NaN    0.0     0.0    5427.000000   \n",
              "\n",
              "       hospitalizedIncrease  negativeIncrease  positiveIncrease  \\\n",
              "count            420.000000        420.000000        420.000000   \n",
              "mean            1848.478571     177578.154762      68467.830952   \n",
              "std             1708.460481     121544.473208      68682.221496   \n",
              "min            -2858.000000    -658774.000000          0.000000   \n",
              "25%              765.750000      79236.750000      22462.500000   \n",
              "50%             1490.000000     206620.000000      44664.500000   \n",
              "75%             2467.000000     260621.000000      89684.250000   \n",
              "max            17155.000000     480256.000000     295121.000000   \n",
              "\n",
              "       totalTestResultsIncrease  \n",
              "count              4.200000e+02  \n",
              "mean               8.662503e+05  \n",
              "std                6.579460e+05  \n",
              "min                0.000000e+00  \n",
              "25%                2.388558e+05  \n",
              "50%                8.223685e+05  \n",
              "75%                1.401706e+06  \n",
              "max                2.309884e+06  \n",
              "\n",
              "[8 rows x 22 columns]"
            ],
            "text/html": [
              "\n",
              "  <div id=\"df-02a7dad1-20ba-4a9c-be68-1829be997b51\" class=\"colab-df-container\">\n",
              "    <div>\n",
              "<style scoped>\n",
              "    .dataframe tbody tr th:only-of-type {\n",
              "        vertical-align: middle;\n",
              "    }\n",
              "\n",
              "    .dataframe tbody tr th {\n",
              "        vertical-align: top;\n",
              "    }\n",
              "\n",
              "    .dataframe thead th {\n",
              "        text-align: right;\n",
              "    }\n",
              "</style>\n",
              "<table border=\"1\" class=\"dataframe\">\n",
              "  <thead>\n",
              "    <tr style=\"text-align: right;\">\n",
              "      <th></th>\n",
              "      <th>date</th>\n",
              "      <th>states</th>\n",
              "      <th>positive</th>\n",
              "      <th>negative</th>\n",
              "      <th>pending</th>\n",
              "      <th>hospitalizedCurrently</th>\n",
              "      <th>hospitalizedCumulative</th>\n",
              "      <th>inIcuCurrently</th>\n",
              "      <th>inIcuCumulative</th>\n",
              "      <th>onVentilatorCurrently</th>\n",
              "      <th>...</th>\n",
              "      <th>hospitalized</th>\n",
              "      <th>totalTestResults</th>\n",
              "      <th>recovered</th>\n",
              "      <th>total</th>\n",
              "      <th>posNeg</th>\n",
              "      <th>deathIncrease</th>\n",
              "      <th>hospitalizedIncrease</th>\n",
              "      <th>negativeIncrease</th>\n",
              "      <th>positiveIncrease</th>\n",
              "      <th>totalTestResultsIncrease</th>\n",
              "    </tr>\n",
              "  </thead>\n",
              "  <tbody>\n",
              "    <tr>\n",
              "      <th>count</th>\n",
              "      <td>4.200000e+02</td>\n",
              "      <td>420.000000</td>\n",
              "      <td>4.190000e+02</td>\n",
              "      <td>3.720000e+02</td>\n",
              "      <td>369.000000</td>\n",
              "      <td>356.000000</td>\n",
              "      <td>369.000000</td>\n",
              "      <td>347.000000</td>\n",
              "      <td>348.000000</td>\n",
              "      <td>348.000000</td>\n",
              "      <td>...</td>\n",
              "      <td>369.000000</td>\n",
              "      <td>4.200000e+02</td>\n",
              "      <td>0.0</td>\n",
              "      <td>420.0</td>\n",
              "      <td>420.0</td>\n",
              "      <td>420.000000</td>\n",
              "      <td>420.000000</td>\n",
              "      <td>420.000000</td>\n",
              "      <td>420.000000</td>\n",
              "      <td>4.200000e+02</td>\n",
              "    </tr>\n",
              "    <tr>\n",
              "      <th>mean</th>\n",
              "      <td>2.020218e+07</td>\n",
              "      <td>49.476190</td>\n",
              "      <td>8.116687e+06</td>\n",
              "      <td>3.030351e+07</td>\n",
              "      <td>9617.308943</td>\n",
              "      <td>57987.117978</td>\n",
              "      <td>310817.140921</td>\n",
              "      <td>12059.227666</td>\n",
              "      <td>21059.344828</td>\n",
              "      <td>3975.298851</td>\n",
              "      <td>...</td>\n",
              "      <td>310817.140921</td>\n",
              "      <td>1.073369e+08</td>\n",
              "      <td>NaN</td>\n",
              "      <td>0.0</td>\n",
              "      <td>0.0</td>\n",
              "      <td>1226.550000</td>\n",
              "      <td>1848.478571</td>\n",
              "      <td>177578.154762</td>\n",
              "      <td>68467.830952</td>\n",
              "      <td>8.662503e+05</td>\n",
              "    </tr>\n",
              "    <tr>\n",
              "      <th>std</th>\n",
              "      <td>3.472227e+03</td>\n",
              "      <td>16.896764</td>\n",
              "      <td>8.967432e+06</td>\n",
              "      <td>2.407815e+07</td>\n",
              "      <td>9920.899709</td>\n",
              "      <td>31898.555998</td>\n",
              "      <td>235557.870159</td>\n",
              "      <td>5668.415483</td>\n",
              "      <td>13572.638376</td>\n",
              "      <td>2191.080602</td>\n",
              "      <td>...</td>\n",
              "      <td>235557.870159</td>\n",
              "      <td>1.129172e+08</td>\n",
              "      <td>NaN</td>\n",
              "      <td>0.0</td>\n",
              "      <td>0.0</td>\n",
              "      <td>1070.129644</td>\n",
              "      <td>1708.460481</td>\n",
              "      <td>121544.473208</td>\n",
              "      <td>68682.221496</td>\n",
              "      <td>6.579460e+05</td>\n",
              "    </tr>\n",
              "    <tr>\n",
              "      <th>min</th>\n",
              "      <td>2.020011e+07</td>\n",
              "      <td>1.000000</td>\n",
              "      <td>0.000000e+00</td>\n",
              "      <td>2.000000e+00</td>\n",
              "      <td>106.000000</td>\n",
              "      <td>325.000000</td>\n",
              "      <td>4.000000</td>\n",
              "      <td>1299.000000</td>\n",
              "      <td>74.000000</td>\n",
              "      <td>167.000000</td>\n",
              "      <td>...</td>\n",
              "      <td>4.000000</td>\n",
              "      <td>0.000000e+00</td>\n",
              "      <td>NaN</td>\n",
              "      <td>0.0</td>\n",
              "      <td>0.0</td>\n",
              "      <td>0.000000</td>\n",
              "      <td>-2858.000000</td>\n",
              "      <td>-658774.000000</td>\n",
              "      <td>0.000000</td>\n",
              "      <td>0.000000e+00</td>\n",
              "    </tr>\n",
              "    <tr>\n",
              "      <th>25%</th>\n",
              "      <td>2.020043e+07</td>\n",
              "      <td>56.000000</td>\n",
              "      <td>1.004386e+06</td>\n",
              "      <td>6.753778e+06</td>\n",
              "      <td>3377.000000</td>\n",
              "      <td>35100.500000</td>\n",
              "      <td>123250.000000</td>\n",
              "      <td>7495.500000</td>\n",
              "      <td>9900.250000</td>\n",
              "      <td>2168.500000</td>\n",
              "      <td>...</td>\n",
              "      <td>123250.000000</td>\n",
              "      <td>5.888598e+06</td>\n",
              "      <td>NaN</td>\n",
              "      <td>0.0</td>\n",
              "      <td>0.0</td>\n",
              "      <td>439.750000</td>\n",
              "      <td>765.750000</td>\n",
              "      <td>79236.750000</td>\n",
              "      <td>22462.500000</td>\n",
              "      <td>2.388558e+05</td>\n",
              "    </tr>\n",
              "    <tr>\n",
              "      <th>50%</th>\n",
              "      <td>2.020081e+07</td>\n",
              "      <td>56.000000</td>\n",
              "      <td>5.044337e+06</td>\n",
              "      <td>2.757246e+07</td>\n",
              "      <td>9939.000000</td>\n",
              "      <td>48811.000000</td>\n",
              "      <td>280138.000000</td>\n",
              "      <td>10114.000000</td>\n",
              "      <td>18797.500000</td>\n",
              "      <td>3186.500000</td>\n",
              "      <td>...</td>\n",
              "      <td>280138.000000</td>\n",
              "      <td>6.839699e+07</td>\n",
              "      <td>NaN</td>\n",
              "      <td>0.0</td>\n",
              "      <td>0.0</td>\n",
              "      <td>1016.000000</td>\n",
              "      <td>1490.000000</td>\n",
              "      <td>206620.000000</td>\n",
              "      <td>44664.500000</td>\n",
              "      <td>8.223685e+05</td>\n",
              "    </tr>\n",
              "    <tr>\n",
              "      <th>75%</th>\n",
              "      <td>2.020112e+07</td>\n",
              "      <td>56.000000</td>\n",
              "      <td>1.234137e+07</td>\n",
              "      <td>5.084301e+07</td>\n",
              "      <td>11957.000000</td>\n",
              "      <td>70519.250000</td>\n",
              "      <td>481309.000000</td>\n",
              "      <td>15596.500000</td>\n",
              "      <td>32998.500000</td>\n",
              "      <td>5828.500000</td>\n",
              "      <td>...</td>\n",
              "      <td>481309.000000</td>\n",
              "      <td>1.854937e+08</td>\n",
              "      <td>NaN</td>\n",
              "      <td>0.0</td>\n",
              "      <td>0.0</td>\n",
              "      <td>1642.500000</td>\n",
              "      <td>2467.000000</td>\n",
              "      <td>260621.000000</td>\n",
              "      <td>89684.250000</td>\n",
              "      <td>1.401706e+06</td>\n",
              "    </tr>\n",
              "    <tr>\n",
              "      <th>max</th>\n",
              "      <td>2.021031e+07</td>\n",
              "      <td>56.000000</td>\n",
              "      <td>2.875649e+07</td>\n",
              "      <td>7.458282e+07</td>\n",
              "      <td>65698.000000</td>\n",
              "      <td>132474.000000</td>\n",
              "      <td>776361.000000</td>\n",
              "      <td>23912.000000</td>\n",
              "      <td>45475.000000</td>\n",
              "      <td>8004.000000</td>\n",
              "      <td>...</td>\n",
              "      <td>776361.000000</td>\n",
              "      <td>3.638251e+08</td>\n",
              "      <td>NaN</td>\n",
              "      <td>0.0</td>\n",
              "      <td>0.0</td>\n",
              "      <td>5427.000000</td>\n",
              "      <td>17155.000000</td>\n",
              "      <td>480256.000000</td>\n",
              "      <td>295121.000000</td>\n",
              "      <td>2.309884e+06</td>\n",
              "    </tr>\n",
              "  </tbody>\n",
              "</table>\n",
              "<p>8 rows × 22 columns</p>\n",
              "</div>\n",
              "    <div class=\"colab-df-buttons\">\n",
              "\n",
              "  <div class=\"colab-df-container\">\n",
              "    <button class=\"colab-df-convert\" onclick=\"convertToInteractive('df-02a7dad1-20ba-4a9c-be68-1829be997b51')\"\n",
              "            title=\"Convert this dataframe to an interactive table.\"\n",
              "            style=\"display:none;\">\n",
              "\n",
              "  <svg xmlns=\"http://www.w3.org/2000/svg\" height=\"24px\" viewBox=\"0 -960 960 960\">\n",
              "    <path d=\"M120-120v-720h720v720H120Zm60-500h600v-160H180v160Zm220 220h160v-160H400v160Zm0 220h160v-160H400v160ZM180-400h160v-160H180v160Zm440 0h160v-160H620v160ZM180-180h160v-160H180v160Zm440 0h160v-160H620v160Z\"/>\n",
              "  </svg>\n",
              "    </button>\n",
              "\n",
              "  <style>\n",
              "    .colab-df-container {\n",
              "      display:flex;\n",
              "      gap: 12px;\n",
              "    }\n",
              "\n",
              "    .colab-df-convert {\n",
              "      background-color: #E8F0FE;\n",
              "      border: none;\n",
              "      border-radius: 50%;\n",
              "      cursor: pointer;\n",
              "      display: none;\n",
              "      fill: #1967D2;\n",
              "      height: 32px;\n",
              "      padding: 0 0 0 0;\n",
              "      width: 32px;\n",
              "    }\n",
              "\n",
              "    .colab-df-convert:hover {\n",
              "      background-color: #E2EBFA;\n",
              "      box-shadow: 0px 1px 2px rgba(60, 64, 67, 0.3), 0px 1px 3px 1px rgba(60, 64, 67, 0.15);\n",
              "      fill: #174EA6;\n",
              "    }\n",
              "\n",
              "    .colab-df-buttons div {\n",
              "      margin-bottom: 4px;\n",
              "    }\n",
              "\n",
              "    [theme=dark] .colab-df-convert {\n",
              "      background-color: #3B4455;\n",
              "      fill: #D2E3FC;\n",
              "    }\n",
              "\n",
              "    [theme=dark] .colab-df-convert:hover {\n",
              "      background-color: #434B5C;\n",
              "      box-shadow: 0px 1px 3px 1px rgba(0, 0, 0, 0.15);\n",
              "      filter: drop-shadow(0px 1px 2px rgba(0, 0, 0, 0.3));\n",
              "      fill: #FFFFFF;\n",
              "    }\n",
              "  </style>\n",
              "\n",
              "    <script>\n",
              "      const buttonEl =\n",
              "        document.querySelector('#df-02a7dad1-20ba-4a9c-be68-1829be997b51 button.colab-df-convert');\n",
              "      buttonEl.style.display =\n",
              "        google.colab.kernel.accessAllowed ? 'block' : 'none';\n",
              "\n",
              "      async function convertToInteractive(key) {\n",
              "        const element = document.querySelector('#df-02a7dad1-20ba-4a9c-be68-1829be997b51');\n",
              "        const dataTable =\n",
              "          await google.colab.kernel.invokeFunction('convertToInteractive',\n",
              "                                                    [key], {});\n",
              "        if (!dataTable) return;\n",
              "\n",
              "        const docLinkHtml = 'Like what you see? Visit the ' +\n",
              "          '<a target=\"_blank\" href=https://colab.research.google.com/notebooks/data_table.ipynb>data table notebook</a>'\n",
              "          + ' to learn more about interactive tables.';\n",
              "        element.innerHTML = '';\n",
              "        dataTable['output_type'] = 'display_data';\n",
              "        await google.colab.output.renderOutput(dataTable, element);\n",
              "        const docLink = document.createElement('div');\n",
              "        docLink.innerHTML = docLinkHtml;\n",
              "        element.appendChild(docLink);\n",
              "      }\n",
              "    </script>\n",
              "  </div>\n",
              "\n",
              "\n",
              "<div id=\"df-5a3300d0-1ff6-4175-ae59-017ab42bb68d\">\n",
              "  <button class=\"colab-df-quickchart\" onclick=\"quickchart('df-5a3300d0-1ff6-4175-ae59-017ab42bb68d')\"\n",
              "            title=\"Suggest charts\"\n",
              "            style=\"display:none;\">\n",
              "\n",
              "<svg xmlns=\"http://www.w3.org/2000/svg\" height=\"24px\"viewBox=\"0 0 24 24\"\n",
              "     width=\"24px\">\n",
              "    <g>\n",
              "        <path d=\"M19 3H5c-1.1 0-2 .9-2 2v14c0 1.1.9 2 2 2h14c1.1 0 2-.9 2-2V5c0-1.1-.9-2-2-2zM9 17H7v-7h2v7zm4 0h-2V7h2v10zm4 0h-2v-4h2v4z\"/>\n",
              "    </g>\n",
              "</svg>\n",
              "  </button>\n",
              "\n",
              "<style>\n",
              "  .colab-df-quickchart {\n",
              "      --bg-color: #E8F0FE;\n",
              "      --fill-color: #1967D2;\n",
              "      --hover-bg-color: #E2EBFA;\n",
              "      --hover-fill-color: #174EA6;\n",
              "      --disabled-fill-color: #AAA;\n",
              "      --disabled-bg-color: #DDD;\n",
              "  }\n",
              "\n",
              "  [theme=dark] .colab-df-quickchart {\n",
              "      --bg-color: #3B4455;\n",
              "      --fill-color: #D2E3FC;\n",
              "      --hover-bg-color: #434B5C;\n",
              "      --hover-fill-color: #FFFFFF;\n",
              "      --disabled-bg-color: #3B4455;\n",
              "      --disabled-fill-color: #666;\n",
              "  }\n",
              "\n",
              "  .colab-df-quickchart {\n",
              "    background-color: var(--bg-color);\n",
              "    border: none;\n",
              "    border-radius: 50%;\n",
              "    cursor: pointer;\n",
              "    display: none;\n",
              "    fill: var(--fill-color);\n",
              "    height: 32px;\n",
              "    padding: 0;\n",
              "    width: 32px;\n",
              "  }\n",
              "\n",
              "  .colab-df-quickchart:hover {\n",
              "    background-color: var(--hover-bg-color);\n",
              "    box-shadow: 0 1px 2px rgba(60, 64, 67, 0.3), 0 1px 3px 1px rgba(60, 64, 67, 0.15);\n",
              "    fill: var(--button-hover-fill-color);\n",
              "  }\n",
              "\n",
              "  .colab-df-quickchart-complete:disabled,\n",
              "  .colab-df-quickchart-complete:disabled:hover {\n",
              "    background-color: var(--disabled-bg-color);\n",
              "    fill: var(--disabled-fill-color);\n",
              "    box-shadow: none;\n",
              "  }\n",
              "\n",
              "  .colab-df-spinner {\n",
              "    border: 2px solid var(--fill-color);\n",
              "    border-color: transparent;\n",
              "    border-bottom-color: var(--fill-color);\n",
              "    animation:\n",
              "      spin 1s steps(1) infinite;\n",
              "  }\n",
              "\n",
              "  @keyframes spin {\n",
              "    0% {\n",
              "      border-color: transparent;\n",
              "      border-bottom-color: var(--fill-color);\n",
              "      border-left-color: var(--fill-color);\n",
              "    }\n",
              "    20% {\n",
              "      border-color: transparent;\n",
              "      border-left-color: var(--fill-color);\n",
              "      border-top-color: var(--fill-color);\n",
              "    }\n",
              "    30% {\n",
              "      border-color: transparent;\n",
              "      border-left-color: var(--fill-color);\n",
              "      border-top-color: var(--fill-color);\n",
              "      border-right-color: var(--fill-color);\n",
              "    }\n",
              "    40% {\n",
              "      border-color: transparent;\n",
              "      border-right-color: var(--fill-color);\n",
              "      border-top-color: var(--fill-color);\n",
              "    }\n",
              "    60% {\n",
              "      border-color: transparent;\n",
              "      border-right-color: var(--fill-color);\n",
              "    }\n",
              "    80% {\n",
              "      border-color: transparent;\n",
              "      border-right-color: var(--fill-color);\n",
              "      border-bottom-color: var(--fill-color);\n",
              "    }\n",
              "    90% {\n",
              "      border-color: transparent;\n",
              "      border-bottom-color: var(--fill-color);\n",
              "    }\n",
              "  }\n",
              "</style>\n",
              "\n",
              "  <script>\n",
              "    async function quickchart(key) {\n",
              "      const quickchartButtonEl =\n",
              "        document.querySelector('#' + key + ' button');\n",
              "      quickchartButtonEl.disabled = true;  // To prevent multiple clicks.\n",
              "      quickchartButtonEl.classList.add('colab-df-spinner');\n",
              "      try {\n",
              "        const charts = await google.colab.kernel.invokeFunction(\n",
              "            'suggestCharts', [key], {});\n",
              "      } catch (error) {\n",
              "        console.error('Error during call to suggestCharts:', error);\n",
              "      }\n",
              "      quickchartButtonEl.classList.remove('colab-df-spinner');\n",
              "      quickchartButtonEl.classList.add('colab-df-quickchart-complete');\n",
              "    }\n",
              "    (() => {\n",
              "      let quickchartButtonEl =\n",
              "        document.querySelector('#df-5a3300d0-1ff6-4175-ae59-017ab42bb68d button');\n",
              "      quickchartButtonEl.style.display =\n",
              "        google.colab.kernel.accessAllowed ? 'block' : 'none';\n",
              "    })();\n",
              "  </script>\n",
              "</div>\n",
              "\n",
              "    </div>\n",
              "  </div>\n"
            ],
            "application/vnd.google.colaboratory.intrinsic+json": {
              "type": "dataframe"
            }
          },
          "metadata": {},
          "execution_count": 24
        }
      ]
    },
    {
      "cell_type": "markdown",
      "source": [
        "3.2 Visualisation des données :"
      ],
      "metadata": {
        "id": "Hq5_Vly0LW6h"
      }
    },
    {
      "cell_type": "markdown",
      "source": [
        "a. Histogramme (pour la distribution des données)"
      ],
      "metadata": {
        "id": "e9x-IZBZnFNw"
      }
    },
    {
      "cell_type": "code",
      "source": [
        "import matplotlib.pyplot as plt\n",
        "import seaborn as sns\n",
        "\n",
        "# Créer un histogramme pour une colonne spécifique (par exemple, 'positive' pour les cas confirmés)\n",
        "plt.figure(figsize=(10, 6))\n",
        "sns.histplot(df['positive'], bins=30, kde=True, color='blue')\n",
        "plt.title('Répartition des cas confirmés')\n",
        "plt.xlabel('Nombre de cas')\n",
        "plt.ylabel('Fréquence')\n",
        "plt.show()\n"
      ],
      "metadata": {
        "colab": {
          "base_uri": "https://localhost:8080/",
          "height": 565
        },
        "id": "g1HEhPLvm0_f",
        "outputId": "356e78bf-5f04-4077-eeae-532f3b773947"
      },
      "execution_count": 55,
      "outputs": [
        {
          "output_type": "display_data",
          "data": {
            "text/plain": [
              "<Figure size 1000x600 with 1 Axes>"
            ],
            "image/png": "[encoded data removed]"
          },
          "metadata": {}
        }
      ]
    },
    {
      "cell_type": "markdown",
      "source": [
        "b. Boxplot (pour identifier les anomalies)"
      ],
      "metadata": {
        "id": "7zkQZD_snDM1"
      }
    },
    {
      "cell_type": "code",
      "source": [
        "plt.figure(figsize=(10, 6))\n",
        "sns.boxplot(x=df['positive'], color='orange')\n",
        "plt.title('Boxplot des cas confirmés')\n",
        "plt.xlabel('Nombre de cas')\n",
        "plt.show()\n"
      ],
      "metadata": {
        "colab": {
          "base_uri": "https://localhost:8080/",
          "height": 565
        },
        "id": "9GUENs_mnP2Q",
        "outputId": "c87ddb63-bf76-4761-d961-52601ae1b552"
      },
      "execution_count": 56,
      "outputs": [
        {
          "output_type": "display_data",
          "data": {
            "text/plain": [
              "<Figure size 1000x600 with 1 Axes>"
            ],
            "image/png": "[encoded data removed]"
          },
          "metadata": {}
        }
      ]
    },
    {
      "cell_type": "markdown",
      "source": [
        "c. Visualisation des relations entre les variables"
      ],
      "metadata": {
        "id": "Tk5l3hZDo2Uy"
      }
    },
    {
      "cell_type": "code",
      "source": [
        "# Diagramme de dispersion pour analyser la relation entre les cas confirmés et les décès\n",
        "plt.figure(figsize=(10, 6))\n",
        "sns.scatterplot(x=df['positive'], y=df['death'], color='red')\n",
        "plt.title('Relation entre les cas confirmés et les décès')\n",
        "plt.xlabel('Cas confirmés')\n",
        "plt.ylabel('Décès')\n",
        "plt.show()\n"
      ],
      "metadata": {
        "colab": {
          "base_uri": "https://localhost:8080/",
          "height": 564
        },
        "id": "ywlTqwKfo7bQ",
        "outputId": "84d54755-6460-40a0-bcb2-1f1e4bb68e54"
      },
      "execution_count": 57,
      "outputs": [
        {
          "output_type": "display_data",
          "data": {
            "text/plain": [
              "<Figure size 1000x600 with 1 Axes>"
            ],
            "image/png": "[encoded data removed]"
          },
          "metadata": {}
        }
      ]
    },
    {
      "cell_type": "markdown",
      "source": [
        "d. Identification des anomalies potentielles"
      ],
      "metadata": {
        "id": "DBu2q0S5pOjK"
      }
    },
    {
      "cell_type": "code",
      "source": [
        "# Tracer l'évolution des cas confirmés au fil du temps\n",
        "plt.figure(figsize=(12, 6))\n",
        "sns.lineplot(x=df['date'], y=df['positive'], color='green')\n",
        "plt.title('Évolution des cas confirmés au fil du temps')\n",
        "plt.xlabel('Date')\n",
        "plt.ylabel('Cas confirmés')\n",
        "plt.xticks(rotation=45)\n",
        "plt.show()\n"
      ],
      "metadata": {
        "colab": {
          "base_uri": "https://localhost:8080/",
          "height": 597
        },
        "id": "sl-LXwHypRib",
        "outputId": "b9afbf47-0e46-400c-acf1-016eb8373a41"
      },
      "execution_count": 58,
      "outputs": [
        {
          "output_type": "display_data",
          "data": {
            "text/plain": [
              "<Figure size 1200x600 with 1 Axes>"
            ],
            "image/png": "[encoded data removed]"
          },
          "metadata": {}
        }
      ]
    },
    {
      "cell_type": "markdown",
      "source": [
        "### **Résumé de l'analyse descriptive des données**\n",
        "\n",
        "1. **Calcul des statistiques de base** :\n",
        "   - J'ai calculé **Statistiques de base** : Moyenne, médiane, minimum, maximum, écart-type, et somme pour obtenir un aperçu global des données.\n",
        "\n",
        "2. **Visualisation des données** :\n",
        "\n",
        "   a. *Histogramme* :  \n",
        "      J'ai créé un *histogramme* pour observer la répartition des cas confirmés de COVID-19.\n",
        "\n",
        "   b. *Boxplot* :  \n",
        "      J'ai utilisé un *boxplot* pour identifier les *valeurs aberrantes* ou anomalies dans les cas confirmés. Le boxplot permet de visualiser les **outliers** et d'analyser la dispersion des données.\n",
        "\n",
        "   c. *Diagramme de dispersion* :  \n",
        "      J'ai créé un *diagramme de dispersion* pour examiner la relation entre le nombre de **cas confirmés** et le **nombre de décès**. Cela m'a permis d'observer s'il y a une corrélation visible entre ces deux variables.\n",
        "\n",
        "   d. *Évolution au fil du temps* :  \n",
        "      J'ai tracé l'évolution des cas confirmés au fil du temps avec un *graphique linéaire*. Cela permet d'observer la tendance des cas au fil des jours et de détecter des changements dans la dynamique de la pandémie.\n",
        "\n",
        "\n"
      ],
      "metadata": {
        "id": "g-bRnTmRq2hu"
      }
    }
  ]
}